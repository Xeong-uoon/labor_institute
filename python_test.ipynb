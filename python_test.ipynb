{
 "cells": [
  {
   "cell_type": "code",
   "execution_count": 18,
   "id": "3a386dd4",
   "metadata": {},
   "outputs": [],
   "source": [
    "!git remote add origin \"https://github.com/Xeong-uoon/labor_institute.git\""
   ]
  },
  {
   "cell_type": "code",
   "execution_count": 30,
   "id": "c6f9d1a4",
   "metadata": {},
   "outputs": [],
   "source": [
    "!git config --global user.name \"Xeong-uoon\""
   ]
  },
  {
   "cell_type": "code",
   "execution_count": 31,
   "id": "7f1e228c",
   "metadata": {},
   "outputs": [],
   "source": [
    "!git config --global user.email \"smiu_eagle@naver.com\""
   ]
  },
  {
   "cell_type": "code",
   "execution_count": 22,
   "id": "83bceae6",
   "metadata": {},
   "outputs": [
    {
     "name": "stdout",
     "output_type": "stream",
     "text": [
      "[main 4504387] test\r\n",
      " 1 file changed, 49 insertions(+), 14 deletions(-)\r\n"
     ]
    }
   ],
   "source": [
    "!git commit -m \"test\""
   ]
  },
  {
   "cell_type": "code",
   "execution_count": 21,
   "id": "10adc5b2",
   "metadata": {},
   "outputs": [],
   "source": [
    "!git add python_test.ipynb"
   ]
  },
  {
   "cell_type": "code",
   "execution_count": 29,
   "id": "f196f0ab",
   "metadata": {},
   "outputs": [
    {
     "name": "stdout",
     "output_type": "stream",
     "text": [
      "Username for 'https://github.com': ^C\n"
     ]
    }
   ],
   "source": [
    "!git push origin main"
   ]
  },
  {
   "cell_type": "code",
   "execution_count": 26,
   "id": "ce3ae526",
   "metadata": {},
   "outputs": [
    {
     "name": "stdout",
     "output_type": "stream",
     "text": [
      "From https://github.com/Xeong-uoon/labor_institute\n",
      " * branch            main       -> FETCH_HEAD\n",
      " * [new branch]      main       -> origin/main\n",
      "Already up to date.\n"
     ]
    }
   ],
   "source": [
    "!git pull origin main"
   ]
  }
 ],
 "metadata": {
  "kernelspec": {
   "display_name": "sw",
   "language": "python",
   "name": "sw"
  },
  "language_info": {
   "codemirror_mode": {
    "name": "ipython",
    "version": 3
   },
   "file_extension": ".py",
   "mimetype": "text/x-python",
   "name": "python",
   "nbconvert_exporter": "python",
   "pygments_lexer": "ipython3",
   "version": "3.8.16"
  }
 },
 "nbformat": 4,
 "nbformat_minor": 5
}
