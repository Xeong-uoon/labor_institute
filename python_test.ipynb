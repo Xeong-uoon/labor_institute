{
 "cells": [
  {
   "cell_type": "code",
   "execution_count": 17,
   "id": "da15b720",
   "metadata": {},
   "outputs": [
    {
     "name": "stdout",
     "output_type": "stream",
     "text": [
      "usage: git remote add [<options>] <name> <url>\r\n",
      "\r\n",
      "    -f, --fetch           fetch the remote branches\r\n",
      "    --tags                import all tags and associated objects when fetching\r\n",
      "                          or do not fetch any tag at all (--no-tags)\r\n",
      "    -t, --track <branch>  branch(es) to track\r\n",
      "    -m, --master <branch>\r\n",
      "                          master branch\r\n",
      "    --mirror[=<push|fetch>]\r\n",
      "                          set up remote as a mirror to push to or fetch from\r\n",
      "\r\n"
     ]
    }
   ],
   "source": [
    "!git remote add \"https://github.com/Xeong-uoon/labor_institute.git\""
   ]
  },
  {
   "cell_type": "code",
   "execution_count": null,
   "id": "0cf82b43",
   "metadata": {},
   "outputs": [],
   "source": [
    "!git commit -m \"test\""
   ]
  },
  {
   "cell_type": "code",
   "execution_count": 11,
   "id": "cfc73131",
   "metadata": {},
   "outputs": [],
   "source": [
    "!git add python_test.ipynb"
   ]
  },
  {
   "cell_type": "code",
   "execution_count": 13,
   "id": "d6d6a06d",
   "metadata": {},
   "outputs": [
    {
     "name": "stdout",
     "output_type": "stream",
     "text": [
      "error: src refspec master does not match any.\r\n",
      "error: failed to push some refs to 'origin'\r\n"
     ]
    }
   ],
   "source": [
    "!git push origin master"
   ]
  },
  {
   "cell_type": "code",
   "execution_count": 14,
   "id": "2db68cc7",
   "metadata": {},
   "outputs": [
    {
     "name": "stdout",
     "output_type": "stream",
     "text": [
      "fatal: 'origin' does not appear to be a git repository\r\n",
      "fatal: Could not read from remote repository.\r\n",
      "\r\n",
      "Please make sure you have the correct access rights\r\n",
      "and the repository exists.\r\n"
     ]
    }
   ],
   "source": [
    "!git pull origin master"
   ]
  }
 ],
 "metadata": {
  "kernelspec": {
   "display_name": "sw",
   "language": "python",
   "name": "sw"
  },
  "language_info": {
   "codemirror_mode": {
    "name": "ipython",
    "version": 3
   },
   "file_extension": ".py",
   "mimetype": "text/x-python",
   "name": "python",
   "nbconvert_exporter": "python",
   "pygments_lexer": "ipython3",
   "version": "3.8.16"
  }
 },
 "nbformat": 4,
 "nbformat_minor": 5
}
