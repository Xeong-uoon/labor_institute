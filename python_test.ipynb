{
 "cells": [
  {
   "cell_type": "code",
   "execution_count": 18,
   "id": "20e2220e",
   "metadata": {},
   "outputs": [],
   "source": [
    "!git remote add origin \"https://github.com/Xeong-uoon/labor_institute.git\""
   ]
  },
  {
   "cell_type": "code",
   "execution_count": 30,
   "id": "52ab8bd8",
   "metadata": {},
   "outputs": [],
   "source": [
    "!git config --global user.name \"Xeong-uoon\""
   ]
  },
  {
   "cell_type": "code",
   "execution_count": 31,
   "id": "7d35ba93",
   "metadata": {},
   "outputs": [],
   "source": [
    "!git config --global user.email \"smiu_eagle@naver.com\""
   ]
  },
  {
   "cell_type": "code",
   "execution_count": 39,
   "id": "cdf64528",
   "metadata": {},
   "outputs": [
    {
     "name": "stdout",
     "output_type": "stream",
     "text": [
      "On branch main\r\n",
      "Changes not staged for commit:\r\n",
      "\t\u001b[31mmodified:   python_test.ipynb\u001b[m\r\n",
      "\r\n",
      "Untracked files:\r\n",
      "\t\u001b[31m.gitignore\u001b[m\r\n",
      "\t\u001b[31m.ipynb_checkpoints/\u001b[m\r\n",
      "\t\u001b[31mlabor_institute.Rproj\u001b[m\r\n",
      "\r\n",
      "no changes added to commit\r\n"
     ]
    }
   ],
   "source": [
    "!git commit -m \"test\""
   ]
  },
  {
   "cell_type": "code",
   "execution_count": 36,
   "id": "3cb66ebe",
   "metadata": {},
   "outputs": [],
   "source": [
    "!git add python_test.ipynb"
   ]
  },
  {
   "cell_type": "code",
   "execution_count": 38,
   "id": "2a630185",
   "metadata": {},
   "outputs": [
    {
     "name": "stdout",
     "output_type": "stream",
     "text": [
      "Username for 'https://github.com': ^C\n"
     ]
    }
   ],
   "source": [
    "!git push origin main"
   ]
  },
  {
   "cell_type": "code",
   "execution_count": 33,
   "id": "0feac7ed",
   "metadata": {},
   "outputs": [
    {
     "name": "stdout",
     "output_type": "stream",
     "text": [
      "From https://github.com/Xeong-uoon/labor_institute\r\n",
      " * branch            main       -> FETCH_HEAD\r\n",
      "Already up to date.\r\n"
     ]
    }
   ],
   "source": [
    "!git pull origin main"
   ]
  },
  {
   "cell_type": "code",
   "execution_count": 35,
   "id": "5cbce731",
   "metadata": {},
   "outputs": [
    {
     "data": {
      "text/plain": [
       "111"
      ]
     },
     "execution_count": 35,
     "metadata": {},
     "output_type": "execute_result"
    }
   ],
   "source": [
    "111"
   ]
  },
  {
   "cell_type": "code",
   "execution_count": null,
   "id": "5cd713b4",
   "metadata": {},
   "outputs": [],
   "source": [
    "111"
   ]
  }
 ],
 "metadata": {
  "kernelspec": {
   "display_name": "sw",
   "language": "python",
   "name": "sw"
  },
  "language_info": {
   "codemirror_mode": {
    "name": "ipython",
    "version": 3
   },
   "file_extension": ".py",
   "mimetype": "text/x-python",
   "name": "python",
   "nbconvert_exporter": "python",
   "pygments_lexer": "ipython3",
   "version": "3.8.16"
  }
 },
 "nbformat": 4,
 "nbformat_minor": 5
}
